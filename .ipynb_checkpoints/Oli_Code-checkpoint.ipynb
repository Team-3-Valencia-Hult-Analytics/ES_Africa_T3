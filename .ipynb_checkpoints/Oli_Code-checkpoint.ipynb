{
 "cells": [
  {
   "cell_type": "markdown",
   "metadata": {},
   "source": [
    "# Load data "
   ]
  },
  {
   "cell_type": "code",
   "execution_count": 1,
   "metadata": {},
   "outputs": [
    {
     "data": {
      "text/html": [
       "<div>\n",
       "<style scoped>\n",
       "    .dataframe tbody tr th:only-of-type {\n",
       "        vertical-align: middle;\n",
       "    }\n",
       "\n",
       "    .dataframe tbody tr th {\n",
       "        vertical-align: top;\n",
       "    }\n",
       "\n",
       "    .dataframe thead th {\n",
       "        text-align: right;\n",
       "    }\n",
       "</style>\n",
       "<table border=\"1\" class=\"dataframe\">\n",
       "  <thead>\n",
       "    <tr style=\"text-align: right;\">\n",
       "      <th></th>\n",
       "      <th>Access to electricity (% of population)</th>\n",
       "      <th>Access to electricity, rural (% of rural population)</th>\n",
       "      <th>Access to electricity, urban (% of urban population)</th>\n",
       "      <th>Mobile cellular subscriptions (per 100 people)</th>\n",
       "      <th>GDP growth (annual %)</th>\n",
       "      <th>GDP (current US$)</th>\n",
       "      <th>Life expectancy at birth, total (years)</th>\n",
       "      <th>Population, total</th>\n",
       "    </tr>\n",
       "  </thead>\n",
       "  <tbody>\n",
       "    <tr>\n",
       "      <th>count</th>\n",
       "      <td>21.0000</td>\n",
       "      <td>20.0000</td>\n",
       "      <td>21.0000</td>\n",
       "      <td>21.0000</td>\n",
       "      <td>21.0000</td>\n",
       "      <td>2.100000e+01</td>\n",
       "      <td>21.0000</td>\n",
       "      <td>2.000000e+01</td>\n",
       "    </tr>\n",
       "    <tr>\n",
       "      <th>mean</th>\n",
       "      <td>42.4475</td>\n",
       "      <td>24.9696</td>\n",
       "      <td>74.2736</td>\n",
       "      <td>73.1922</td>\n",
       "      <td>2.7550</td>\n",
       "      <td>3.471420e+10</td>\n",
       "      <td>62.7079</td>\n",
       "      <td>2.373075e+07</td>\n",
       "    </tr>\n",
       "    <tr>\n",
       "      <th>std</th>\n",
       "      <td>20.2626</td>\n",
       "      <td>19.0987</td>\n",
       "      <td>13.7492</td>\n",
       "      <td>38.2062</td>\n",
       "      <td>3.4520</td>\n",
       "      <td>7.592350e+10</td>\n",
       "      <td>4.0239</td>\n",
       "      <td>2.657785e+07</td>\n",
       "    </tr>\n",
       "    <tr>\n",
       "      <th>min</th>\n",
       "      <td>9.3000</td>\n",
       "      <td>1.6584</td>\n",
       "      <td>42.1207</td>\n",
       "      <td>20.3640</td>\n",
       "      <td>-5.2000</td>\n",
       "      <td>3.060000e+02</td>\n",
       "      <td>52.9470</td>\n",
       "      <td>9.440970e+05</td>\n",
       "    </tr>\n",
       "    <tr>\n",
       "      <th>25%</th>\n",
       "      <td>27.4255</td>\n",
       "      <td>13.3556</td>\n",
       "      <td>65.3383</td>\n",
       "      <td>41.4517</td>\n",
       "      <td>1.4145</td>\n",
       "      <td>3.172416e+09</td>\n",
       "      <td>60.8120</td>\n",
       "      <td>4.433677e+06</td>\n",
       "    </tr>\n",
       "    <tr>\n",
       "      <th>50%</th>\n",
       "      <td>40.3000</td>\n",
       "      <td>22.4953</td>\n",
       "      <td>75.2000</td>\n",
       "      <td>73.0948</td>\n",
       "      <td>3.7370</td>\n",
       "      <td>1.146585e+10</td>\n",
       "      <td>63.2790</td>\n",
       "      <td>1.441293e+07</td>\n",
       "    </tr>\n",
       "    <tr>\n",
       "      <th>75%</th>\n",
       "      <td>60.2000</td>\n",
       "      <td>29.5147</td>\n",
       "      <td>84.8000</td>\n",
       "      <td>98.9298</td>\n",
       "      <td>4.7040</td>\n",
       "      <td>2.586814e+10</td>\n",
       "      <td>65.8720</td>\n",
       "      <td>3.177737e+07</td>\n",
       "    </tr>\n",
       "    <tr>\n",
       "      <th>max</th>\n",
       "      <td>84.4000</td>\n",
       "      <td>67.3912</td>\n",
       "      <td>96.6000</td>\n",
       "      <td>155.2324</td>\n",
       "      <td>9.5039</td>\n",
       "      <td>3.492681e+11</td>\n",
       "      <td>68.8120</td>\n",
       "      <td>1.064000e+08</td>\n",
       "    </tr>\n",
       "  </tbody>\n",
       "</table>\n",
       "</div>"
      ],
      "text/plain": [
       "       Access to electricity (% of population)  \\\n",
       "count                                  21.0000   \n",
       "mean                                   42.4475   \n",
       "std                                    20.2626   \n",
       "min                                     9.3000   \n",
       "25%                                    27.4255   \n",
       "50%                                    40.3000   \n",
       "75%                                    60.2000   \n",
       "max                                    84.4000   \n",
       "\n",
       "       Access to electricity, rural (% of rural population)  \\\n",
       "count                                            20.0000      \n",
       "mean                                             24.9696      \n",
       "std                                              19.0987      \n",
       "min                                               1.6584      \n",
       "25%                                              13.3556      \n",
       "50%                                              22.4953      \n",
       "75%                                              29.5147      \n",
       "max                                              67.3912      \n",
       "\n",
       "       Access to electricity, urban (% of urban population)  \\\n",
       "count                                            21.0000      \n",
       "mean                                             74.2736      \n",
       "std                                              13.7492      \n",
       "min                                              42.1207      \n",
       "25%                                              65.3383      \n",
       "50%                                              75.2000      \n",
       "75%                                              84.8000      \n",
       "max                                              96.6000      \n",
       "\n",
       "       Mobile cellular subscriptions (per 100 people)  GDP growth (annual %)  \\\n",
       "count                                         21.0000                21.0000   \n",
       "mean                                          73.1922                 2.7550   \n",
       "std                                           38.2062                 3.4520   \n",
       "min                                           20.3640                -5.2000   \n",
       "25%                                           41.4517                 1.4145   \n",
       "50%                                           73.0948                 3.7370   \n",
       "75%                                           98.9298                 4.7040   \n",
       "max                                          155.2324                 9.5039   \n",
       "\n",
       "       GDP (current US$)  Life expectancy at birth, total (years)  \\\n",
       "count       2.100000e+01                                  21.0000   \n",
       "mean        3.471420e+10                                  62.7079   \n",
       "std         7.592350e+10                                   4.0239   \n",
       "min         3.060000e+02                                  52.9470   \n",
       "25%         3.172416e+09                                  60.8120   \n",
       "50%         1.146585e+10                                  63.2790   \n",
       "75%         2.586814e+10                                  65.8720   \n",
       "max         3.492681e+11                                  68.8120   \n",
       "\n",
       "       Population, total  \n",
       "count       2.000000e+01  \n",
       "mean        2.373075e+07  \n",
       "std         2.657785e+07  \n",
       "min         9.440970e+05  \n",
       "25%         4.433677e+06  \n",
       "50%         1.441293e+07  \n",
       "75%         3.177737e+07  \n",
       "max         1.064000e+08  "
      ]
     },
     "execution_count": 1,
     "metadata": {},
     "output_type": "execute_result"
    }
   ],
   "source": [
    "# Team 3 Part 1 Python CODE to Load, Add Missing Vallues, Sort Outliers & Slice the code \n",
    "\n",
    "import pandas as pd             # data science essentials\n",
    "import matplotlib.pyplot as plt\n",
    "%matplotlib inline\n",
    "import seaborn as sns           # more data visualization\n",
    "\n",
    "## Loading the data \n",
    "wdiw_file ='WDIW_FDataset.xlsx'\n",
    "wdiw_data = pd.read_excel('WDIW_FDataset.xlsx') #index_col=0)\n",
    "\n",
    "wdiw_ESA = wdiw_data[wdiw_data['Hult Region']=='East/South Africa']\n",
    "\n",
    "wdiw_oli = wdiw_ESA[['Country Code','Country Name','Hult Region','Access to electricity (% of population)', \n",
    "                      'Access to electricity, rural (% of rural population)','Access to electricity, urban (% of urban population)', \n",
    "                     'Mobile cellular subscriptions (per 100 people)', 'GDP growth (annual %)', 'GDP (current US$)',\n",
    "                      'Life expectancy at birth, total (years)','Population, total']]\n",
    "\n",
    "wdiw_oli_world = wdiw_data[['Country Code','Country Name','Hult Region','Access to electricity (% of population)', \n",
    "                      'Access to electricity, rural (% of rural population)','Access to electricity, urban (% of urban population)', \n",
    "                     'Mobile cellular subscriptions (per 100 people)', 'GDP growth (annual %)', 'GDP (current US$)',\n",
    "                      'Life expectancy at birth, total (years)','Population, total']]\n",
    "\n",
    "wdiw_oli.describe().round(4)"
   ]
  },
  {
   "cell_type": "markdown",
   "metadata": {},
   "source": [
    "# Adding Local Missing Values + Add Angola + Remove Togo"
   ]
  },
  {
   "cell_type": "code",
   "execution_count": null,
   "metadata": {},
   "outputs": [],
   "source": [
    "## Oli Missing Values to add\n",
    "# Madagascar 'Access to electricity, rural (% of rural population)' aprox = 15.00, Souce = World Bank Article 2019\n",
    "# Somalia'GDP (current US$)' = 4721000393, Souce = World Bank 2018\n",
    "# Eritrea 'Population, total' = 3513214 , Souce = UN 2019\n",
    "\n",
    "## Missing Values Explanations\n",
    "# No data'GDP growth (annual %)' for Eritrea (2011), Party Dictatorship ie it is not a Democracy \n",
    "# No data'GDP growth (annual %)' for Somalia (1990), Civil War since 1991\n",
    "# No data'GDP growth (annual %)' for South Sudan (2016) Civil war since 2013\n",
    "# No data'GDP (current US$)' for South Sudan (2016), GDP fell by 400% in 15-16, Civil war since 2013\n",
    "# No data'GDP (current US$)' for Eritrea (2011), Party Dictatorship ie it is not a Democracy \n",
    "# No data'GDP (current US$)' for Eritrea (2011), Party Dictatorship ie it is not a Democracy "
   ]
  },
  {
   "cell_type": "markdown",
   "metadata": {},
   "source": [
    "# Dealing with population Missing Values"
   ]
  },
  {
   "cell_type": "code",
   "execution_count": null,
   "metadata": {},
   "outputs": [],
   "source": [
    "## Drop countries missing most data\n",
    "\n",
    "num_col = len(wdiw_oli_world.columns)\n",
    "print(\"Total num colums: {}\".format(num_col))\n",
    "print(\"Columns per country:\")\n",
    "for i, row in wdiw_oli_world.iterrows():\n",
    "    num_col_country = wdiw_oli_world.loc[i].count()\n",
    "    print(i, num_col_country)\n",
    "    # If country is missing more than half of the data, drop it\n",
    "    if num_col_country < (num_col / 2):\n",
    "        print(\"**Dropping {}**\".format(i))\n",
    "        wdiw_oli_world = wdiw_oli_world.drop(i)\n",
    "        \n",
    "#Imputes means for remaining missing data\n",
    "\n",
    "    count_nan = len(wdiw_oli_world[col]) - wdiw_oli_world[col].count()\n",
    "    if count_nan > 0:\n",
    "        # If more than 1/2 the columns values are NAN, toss the column\n",
    "        if count_nan > (len(wdiw_oli_world[col]) / 2):\n",
    "            print('{} had {} missing values.'.format(col, count_nan))\n",
    "            print('Dropping \"{}\". Too many missing values.'.format(col))\n",
    "            wdiw_oli_world = wdiw_oli_world.drop([col], axis=1)\n",
    "wdiw_oli_world = wdiw_oli_world.fillna(wdiw_oli_world.mean())\n",
    "\n"
   ]
  },
  {
   "cell_type": "markdown",
   "metadata": {},
   "source": [
    "# Outliers "
   ]
  },
  {
   "cell_type": "code",
   "execution_count": null,
   "metadata": {},
   "outputs": [],
   "source": []
  },
  {
   "cell_type": "markdown",
   "metadata": {},
   "source": [
    "# Data Visualization"
   ]
  },
  {
   "cell_type": "code",
   "execution_count": 13,
   "metadata": {
    "scrolled": false
   },
   "outputs": [
    {
     "name": "stdout",
     "output_type": "stream",
     "text": [
      "Country Code\n"
     ]
    },
    {
     "data": {
      "image/png": "[encoded data removed]",
      "text/plain": [
       "<Figure size 432x288 with 1 Axes>"
      ]
     },
     "metadata": {
      "needs_background": "light"
     },
     "output_type": "display_data"
    },
    {
     "name": "stdout",
     "output_type": "stream",
     "text": [
      "Country Name\n"
     ]
    },
    {
     "data": {
      "image/png": "[encoded data removed]",
      "text/plain": [
       "<Figure size 432x288 with 1 Axes>"
      ]
     },
     "metadata": {
      "needs_background": "light"
     },
     "output_type": "display_data"
    },
    {
     "name": "stdout",
     "output_type": "stream",
     "text": [
      "Hult Region\n"
     ]
    },
    {
     "data": {
      "image/png": "[encoded data removed]",
      "text/plain": [
       "<Figure size 432x288 with 1 Axes>"
      ]
     },
     "metadata": {
      "needs_background": "light"
     },
     "output_type": "display_data"
    },
    {
     "name": "stdout",
     "output_type": "stream",
     "text": [
      "Access to electricity (% of population)\n"
     ]
    },
    {
     "data": {
      "image/png": "[encoded data removed]",
      "text/plain": [
       "<Figure size 432x288 with 1 Axes>"
      ]
     },
     "metadata": {
      "needs_background": "light"
     },
     "output_type": "display_data"
    },
    {
     "name": "stdout",
     "output_type": "stream",
     "text": [
      "Access to electricity, rural (% of rural population)\n"
     ]
    },
    {
     "data": {
      "image/png": "[encoded data removed]",
      "text/plain": [
       "<Figure size 432x288 with 1 Axes>"
      ]
     },
     "metadata": {
      "needs_background": "light"
     },
     "output_type": "display_data"
    },
    {
     "name": "stdout",
     "output_type": "stream",
     "text": [
      "Access to electricity, urban (% of urban population)\n"
     ]
    },
    {
     "data": {
      "image/png": "[encoded data removed]",
      "text/plain": [
       "<Figure size 432x288 with 1 Axes>"
      ]
     },
     "metadata": {
      "needs_background": "light"
     },
     "output_type": "display_data"
    },
    {
     "name": "stdout",
     "output_type": "stream",
     "text": [
      "Mobile cellular subscriptions (per 100 people)\n"
     ]
    },
    {
     "data": {
      "image/png": "[encoded data removed]",
      "text/plain": [
       "<Figure size 432x288 with 1 Axes>"
      ]
     },
     "metadata": {
      "needs_background": "light"
     },
     "output_type": "display_data"
    },
    {
     "name": "stdout",
     "output_type": "stream",
     "text": [
      "GDP growth (annual %)\n"
     ]
    },
    {
     "data": {
      "image/png": "[encoded data removed]",
      "text/plain": [
       "<Figure size 432x288 with 1 Axes>"
      ]
     },
     "metadata": {
      "needs_background": "light"
     },
     "output_type": "display_data"
    },
    {
     "name": "stdout",
     "output_type": "stream",
     "text": [
      "GDP (current US$)\n"
     ]
    },
    {
     "data": {
      "image/png": "[encoded data removed]",
      "text/plain": [
       "<Figure size 432x288 with 1 Axes>"
      ]
     },
     "metadata": {
      "needs_background": "light"
     },
     "output_type": "display_data"
    },
    {
     "name": "stdout",
     "output_type": "stream",
     "text": [
      "Life expectancy at birth, total (years)\n"
     ]
    },
    {
     "data": {
      "image/png": "[encoded data removed]",
      "text/plain": [
       "<Figure size 432x288 with 1 Axes>"
      ]
     },
     "metadata": {
      "needs_background": "light"
     },
     "output_type": "display_data"
    },
    {
     "name": "stdout",
     "output_type": "stream",
     "text": [
      "Population, total\n"
     ]
    },
    {
     "data": {
      "image/png": "[encoded data removed]",
      "text/plain": [
       "<Figure size 432x288 with 1 Axes>"
      ]
     },
     "metadata": {
      "needs_background": "light"
     },
     "output_type": "display_data"
    }
   ],
   "source": [
    "for col in wdiw_oli_world:\n",
    "    wdiw_oli_world[col].hist(bins=20)\n",
    "    print(col)\n",
    "    plt.show()\n",
    "    \n",
    "    \n",
    "###### Oli Electricity E/A Af & World Analysis TODO\n",
    "\n",
    "#Append GDP Per Capital Calculation for World Data Set\n",
    "#Append GDP Per Capital Calculation for Just S/E Africa\n",
    "\n",
    "#Remove Line from Oli World Data Set that have Missing values \n",
    "#print(wdiw_oli_world.isnull().sum())\n",
    "\n",
    "###- Electricity % vs Mobile Cellular, GDP Growth, GDP, Life Expectancy & GDP/Capita\n",
    "## GDP Current, GDP per Capital Remove: South Sudan & Eritrea\n",
    "## GDP Growth Remove: South Sudan, Somalia & Eritrea\n",
    "\n",
    "#1. Run Distribution Plots\n",
    "\n",
    "#2. Correlations, "
   ]
  },
  {
   "cell_type": "code",
   "execution_count": null,
   "metadata": {},
   "outputs": [],
   "source": []
  }
 ],
 "metadata": {
  "kernelspec": {
   "display_name": "Python 3",
   "language": "python",
   "name": "python3"
  },
  "language_info": {
   "codemirror_mode": {
    "name": "ipython",
    "version": 3
   },
   "file_extension": ".py",
   "mimetype": "text/x-python",
   "name": "python",
   "nbconvert_exporter": "python",
   "pygments_lexer": "ipython3",
   "version": "3.7.4"
  },
  "toc": {
   "base_numbering": 1,
   "nav_menu": {},
   "number_sections": true,
   "sideBar": true,
   "skip_h1_title": false,
   "title_cell": "Table of Contents",
   "title_sidebar": "Contents",
   "toc_cell": false,
   "toc_position": {},
   "toc_section_display": true,
   "toc_window_display": false
  },
  "varInspector": {
   "cols": {
    "lenName": 16,
    "lenType": 16,
    "lenVar": 40
   },
   "kernels_config": {
    "python": {
     "delete_cmd_postfix": "",
     "delete_cmd_prefix": "del ",
     "library": "var_list.py",
     "varRefreshCmd": "print(var_dic_list())"
    },
    "r": {
     "delete_cmd_postfix": ") ",
     "delete_cmd_prefix": "rm(",
     "library": "var_list.r",
     "varRefreshCmd": "cat(var_dic_list()) "
    }
   },
   "types_to_exclude": [
    "module",
    "function",
    "builtin_function_or_method",
    "instance",
    "_Feature"
   ],
   "window_display": false
  }
 },
 "nbformat": 4,
 "nbformat_minor": 2
}
